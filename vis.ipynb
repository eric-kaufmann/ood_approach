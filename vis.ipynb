{
 "cells": [
  {
   "cell_type": "code",
   "execution_count": 21,
   "metadata": {},
   "outputs": [],
   "source": [
    "import os\n",
    "import sys\n",
    "from pathlib import Path\n",
    "import argparse\n",
    "from tqdm import tqdm\n",
    "sys.path.append(os.getcwd())\n",
    "\n",
    "import torch\n",
    "import torch.nn as nn\n",
    "import torch.nn.functional as F\n",
    "\n",
    "import numpy as np\n",
    "\n",
    "import matplotlib.pyplot as plt\n",
    "\n",
    "from sklearn import metrics\n",
    "\n",
    "from pytorchcv.model_provider import get_model\n",
    "\n",
    "from loss_functions import AAML, AdditiveAngularMarginLoss, CircleLoss, RBFClassifier\n",
    "from train import USE_SLURM, Model, ModelArc\n",
    "from data_load import get_loader, get_channels, get_num_classes\n",
    "\n",
    "from evaluation import get_values_from_path, create_model, get_device, get_embs, calc_means, get_shortest_dist, calc_ber, cos_sim"
   ]
  },
  {
   "cell_type": "code",
   "execution_count": null,
   "metadata": {},
   "outputs": [],
   "source": []
  },
  {
   "cell_type": "code",
   "execution_count": 44,
   "metadata": {},
   "outputs": [
    {
     "name": "stdout",
     "output_type": "stream",
     "text": [
      "/results_nas/erka8345/checkpoints/arcface_resnet18_cifar10_512embs_sgd_200ep_64bs_0.00035lr_m05s64_9.pt\n",
      "noise\n",
      "Load Model\n",
      "Get Data\n",
      "Files already downloaded and verified\n",
      "Files already downloaded and verified\n"
     ]
    }
   ],
   "source": [
    "path = \"./model/arcface_resnet18_cifar10_512embs_sgd_200ep_64bs_0.00035lr_m05s64_9.pt\"\n",
    "ev_ds = \"noise\"\n",
    "\n",
    "print(path)\n",
    "print(ev_ds)\n",
    "\n",
    "values = get_values_from_path(path)\n",
    "\n",
    "print(\"Load Model\")\n",
    "model = create_model(values)\n",
    "device = get_device()\n",
    "model.to(device)\n",
    "model.load_state_dict(torch.load(path)[\"model_state_dict\"])\n",
    "model.eval()\n",
    "\n",
    "print(\"Get Data\")\n",
    "trainloader, testloader_train = get_loader(bs=values[\"bs\"], dataset=values[\"dataset\"], USE_SLURM=USE_SLURM)\n",
    "_, testloader_eval = get_loader(bs=values[\"bs\"], dataset=ev_ds, USE_SLURM=USE_SLURM)"
   ]
  },
  {
   "cell_type": "code",
   "execution_count": 45,
   "metadata": {},
   "outputs": [
    {
     "name": "stderr",
     "output_type": "stream",
     "text": [
      "  0%|          | 2/782 [00:00<01:00, 12.83it/s]"
     ]
    },
    {
     "name": "stdout",
     "output_type": "stream",
     "text": [
      "Calculate Embeddings\n"
     ]
    },
    {
     "name": "stderr",
     "output_type": "stream",
     "text": [
      "100%|██████████| 782/782 [00:58<00:00, 13.43it/s]\n",
      "100%|██████████| 157/157 [00:11<00:00, 13.57it/s]\n",
      "100%|██████████| 157/157 [00:13<00:00, 11.65it/s]\n"
     ]
    }
   ],
   "source": [
    "print(\"Calculate Embeddings\")\n",
    "embs_traindata, ys_traindata = get_embs(model, trainloader)\n",
    "embs_train, ys_train = get_embs(model, testloader_train)\n",
    "embs_eval, ys_eval = get_embs(model, testloader_eval)"
   ]
  },
  {
   "cell_type": "code",
   "execution_count": 46,
   "metadata": {},
   "outputs": [
    {
     "name": "stderr",
     "output_type": "stream",
     "text": [
      "  1%|          | 59/10000 [00:00<00:16, 585.60it/s]"
     ]
    },
    {
     "name": "stdout",
     "output_type": "stream",
     "text": [
      "Calculate means\n",
      "Get shortest distances...\n",
      "...of ID test data...\n"
     ]
    },
    {
     "name": "stderr",
     "output_type": "stream",
     "text": [
      "100%|██████████| 10000/10000 [00:14<00:00, 710.53it/s]\n",
      "  0%|          | 14/50000 [00:00<06:01, 138.14it/s]"
     ]
    },
    {
     "name": "stdout",
     "output_type": "stream",
     "text": [
      "Mean ID angle:  21.2919314678669\n",
      "...of ID train data...\n"
     ]
    },
    {
     "name": "stderr",
     "output_type": "stream",
     "text": [
      "100%|██████████| 50000/50000 [01:10<00:00, 710.42it/s]\n"
     ]
    }
   ],
   "source": [
    "# 1. calc means for all labels\n",
    "print(\"Calculate means\")\n",
    "means = calc_means(embs_traindata, ys_traindata)\n",
    "\n",
    "# 2. get shortest distance between emb and mean\n",
    "print(\"Get shortest distances...\")\n",
    "print(\"...of ID test data...\")\n",
    "real_id_dist = np.array([])\n",
    "for emb in tqdm(embs_train):\n",
    "    sh_dist, _ = get_shortest_dist(emb, means)\n",
    "    real_id_dist = np.append(real_id_dist, sh_dist.cpu())\n",
    "y_true = np.zeros(len(real_id_dist))\n",
    "#print(real_id_dist.shape)\n",
    "#print(y_true.shape)\n",
    "print(\"Mean ID angle: \",real_id_dist.mean())\n",
    "\n",
    "print(\"...of ID train data...\")\n",
    "test_id_dist = np.array([])\n",
    "for emb in tqdm(embs_traindata):\n",
    "    sh_dist, _ = get_shortest_dist(emb, means)\n",
    "    test_id_dist = np.append(test_id_dist, sh_dist.cpu())"
   ]
  },
  {
   "cell_type": "code",
   "execution_count": 51,
   "metadata": {},
   "outputs": [
    {
     "data": {
      "image/png": "[encoded data removed]",
      "text/plain": [
       "<Figure size 720x576 with 1 Axes>"
      ]
     },
     "metadata": {
      "needs_background": "light"
     },
     "output_type": "display_data"
    }
   ],
   "source": [
    "%matplotlib inline\n",
    "plt.figure(figsize=(10,8))\n",
    "plt.rcParams.update({'font.size': 22})\n",
    "plt.hist(real_id_dist, bins=np.arange(90), color='#0504aa',alpha=0.7, rwidth=0.82)\n",
    "plt.grid(axis='y', alpha=0.75)\n",
    "plt.xlabel(\"Winkel zum nächsten Klassenmittelpunkt\")\n",
    "plt.ylim([0, 750])\n",
    "plt.ylabel(\"Anzahl der Testdaten\")\n",
    "plt.show()"
   ]
  },
  {
   "cell_type": "code",
   "execution_count": 48,
   "metadata": {},
   "outputs": [
    {
     "name": "stdout",
     "output_type": "stream",
     "text": [
      "tensor([92.9895], device='cuda:0')\n",
      "tensor([87.8892], device='cuda:0')\n",
      "tensor([94.1753], device='cuda:0')\n",
      "tensor([94.3962], device='cuda:0')\n",
      "tensor([93.6955], device='cuda:0')\n",
      "tensor([92.2069], device='cuda:0')\n",
      "tensor([88.0058], device='cuda:0')\n",
      "tensor([89.3148], device='cuda:0')\n",
      "tensor([93.0103], device='cuda:0')\n",
      "tensor([88.8670], device='cuda:0')\n",
      "tensor([91.4550], device='cuda:0')\n"
     ]
    }
   ],
   "source": [
    "#m = means[0]\n",
    "#print(m)\n",
    "avg_sum_all = 0\n",
    "for m in means:\n",
    "    avg_sum = 0\n",
    "    for idx, mean in enumerate(means):\n",
    "        dist = cos_sim(m.unsqueeze(0), mean.unsqueeze(0))\n",
    "        dist = torch.acos(dist)\n",
    "        dist = torch.rad2deg(dist)\n",
    "        #print(dist)\n",
    "        avg_sum += dist\n",
    "    print(avg_sum/9)\n",
    "    avg_sum_all += avg_sum/9\n",
    "print(avg_sum_all/10)"
   ]
  },
  {
   "cell_type": "markdown",
   "metadata": {},
   "source": [
    "### Distance in angle\n",
    "RBF -> 96.3632 \\\n",
    "Softmax -> 96.3340 \\\n",
    "Circle -> 96.2880 \\\n",
    "AAML -> 91.4550"
   ]
  },
  {
   "cell_type": "code",
   "execution_count": 6,
   "metadata": {},
   "outputs": [
    {
     "data": {
      "text/plain": [
       "<Figure size 432x288 with 0 Axes>"
      ]
     },
     "metadata": {},
     "output_type": "display_data"
    }
   ],
   "source": [
    "plt.clf()"
   ]
  },
  {
   "cell_type": "code",
   "execution_count": 7,
   "metadata": {},
   "outputs": [
    {
     "name": "stdout",
     "output_type": "stream",
     "text": [
      "Using downloaded and verified file: /results_nas/erka8345/data/test_32x32.mat\n"
     ]
    },
    {
     "name": "stderr",
     "output_type": "stream",
     "text": [
      "100%|██████████| 407/407 [00:29<00:00, 13.59it/s]\n",
      "  0%|          | 32/10000 [00:00<00:31, 316.43it/s]"
     ]
    },
    {
     "name": "stdout",
     "output_type": "stream",
     "text": [
      "torch.Size([26032, 512])\n",
      "torch.Size([10000, 512])\n",
      "...of OOD test data...\n"
     ]
    },
    {
     "name": "stderr",
     "output_type": "stream",
     "text": [
      "100%|██████████| 10000/10000 [00:14<00:00, 682.13it/s]\n"
     ]
    }
   ],
   "source": [
    "ev_ds = \"svhn\"\n",
    "\n",
    "_, testloader_eval = get_loader(bs=values[\"bs\"], dataset=ev_ds, USE_SLURM=USE_SLURM)\n",
    "embs_eval, ys_eval = get_embs(model, testloader_eval)\n",
    "print(embs_eval.shape)\n",
    "embs_eval = embs_eval[:10000]\n",
    "print(embs_eval.shape)\n",
    "\n",
    "print(\"...of OOD test data...\")\n",
    "real_ood_dist = np.array([])\n",
    "for emb in tqdm(embs_eval):\n",
    "    sh_dist, _ = get_shortest_dist(emb, means)\n",
    "    real_ood_dist = np.append(real_ood_dist, sh_dist.cpu())\n",
    "y_false = np.ones(len(real_ood_dist))"
   ]
  },
  {
   "cell_type": "code",
   "execution_count": 8,
   "metadata": {},
   "outputs": [
    {
     "data": {
      "image/png": "[encoded data removed]",
      "text/plain": [
       "<Figure size 720x432 with 1 Axes>"
      ]
     },
     "metadata": {
      "needs_background": "light"
     },
     "output_type": "display_data"
    }
   ],
   "source": [
    "plt.figure(figsize=(10,6))\n",
    "plt.rcParams.update({'font.size': 25})\n",
    "plt.hist(real_id_dist, bins=np.arange(90), color='green',alpha=0.7, rwidth=1.0)\n",
    "plt.hist(real_ood_dist, bins=np.arange(90), color='red',alpha=0.7, rwidth=1.0)\n",
    "plt.grid(axis='y', alpha=0.75)\n",
    "plt.xlabel(\"Winkel zum nächsten Klassenmittelpunkt\")\n",
    "plt.ylabel(\"Anzahl Testdaten\")\n",
    "plt.show()"
   ]
  },
  {
   "cell_type": "code",
   "execution_count": 9,
   "metadata": {},
   "outputs": [
    {
     "name": "stdout",
     "output_type": "stream",
     "text": [
      "Minimum BER: 0.06399999999999997\n",
      "   Threshold: 48.49132537841797\n",
      "AUROC: 0.9717401099999999\n",
      "AUPR: 0.9556296601841321\n"
     ]
    }
   ],
   "source": [
    "dist_scores = np.append(real_id_dist, real_ood_dist)\n",
    "y = np.append(y_true, y_false)\n",
    "#print(dist_scores.shape)\n",
    "#print(y.shape)\n",
    "\n",
    "# print(real_ood_dist, real_ood_dist.shape)\n",
    "\n",
    "# 3. calc roc and auroc\n",
    "fpr, tpr, thresholds = metrics.roc_curve(y, dist_scores)\n",
    "roc_score = metrics.roc_auc_score(y, dist_scores)\n",
    "\n",
    "min_ber = np.min(calc_ber(tpr,fpr))\n",
    "argmin_ber = np.argmin(calc_ber(tpr,fpr))\n",
    "print(f\"Minimum BER: {min_ber}\")\n",
    "print(f\"   Threshold: {thresholds[argmin_ber]}\")\n",
    "\n",
    "\n",
    "# print(fpr, fpr.shape)\n",
    "# print(tpr, tpr.shape)\n",
    "# print(thresholds, thresholds.shape)\n",
    "print(f\"AUROC: {roc_score}\")\n",
    "\n",
    "from sklearn.metrics import auc\n",
    "\n",
    "precision, recall, thresholds = metrics.precision_recall_curve(y, dist_scores)\n",
    "\n",
    "pr_score = auc(recall, precision)\n",
    "print(f\"AUPR: {pr_score}\")\n"
   ]
  },
  {
   "cell_type": "code",
   "execution_count": null,
   "metadata": {},
   "outputs": [],
   "source": [
    "def get_softmax_max(model, dl, need_label):\n",
    "    softmax = nn.Softmax(dim=1)\n",
    "    values = torch.Tensor([]).to(get_device())\n",
    "    device = get_device()\n",
    "    for img, t in dl:\n",
    "        with torch.no_grad():\n",
    "            img, t = img.to(device), t.to(device)\n",
    "            if need_label:\n",
    "                pred = model(img,t)\n",
    "            else:\n",
    "                pred = model(img)\n",
    "            sm_value = softmax(pred)\n",
    "            max_value = torch.max(sm_value) \n",
    "            values = torch.cat((values, max_value.unsqueeze(0)))\n",
    "    return values"
   ]
  },
  {
   "cell_type": "code",
   "execution_count": 18,
   "metadata": {},
   "outputs": [
    {
     "name": "stdout",
     "output_type": "stream",
     "text": [
      "Files already downloaded and verified\n",
      "Files already downloaded and verified\n"
     ]
    }
   ],
   "source": [
    "need_label = False\n",
    "if (values[\"loss\"]==\"circle\")|(values[\"loss\"]==\"arcface\"):\n",
    "    need_label = True\n",
    "trainloader, testloader_train = get_loader(bs=1, dataset=values[\"dataset\"], USE_SLURM=USE_SLURM)\n",
    "id_sm_values = get_softmax_max(model, testloader_train, need_label)\n",
    "id_sm_values = id_sm_values.to(\"cpu\").numpy()"
   ]
  }
 ],
 "metadata": {
  "interpreter": {
   "hash": "810362f8688101cf63ae8e0a6eda02f8ab9638b929f61f128b04dc39db969b8e"
  },
  "kernelspec": {
   "display_name": "Python 3.9.5 64-bit ('erka8345': conda)",
   "language": "python",
   "name": "python3"
  },
  "language_info": {
   "codemirror_mode": {
    "name": "ipython",
    "version": 3
   },
   "file_extension": ".py",
   "mimetype": "text/x-python",
   "name": "python",
   "nbconvert_exporter": "python",
   "pygments_lexer": "ipython3",
   "version": "3.9.5"
  },
  "orig_nbformat": 4
 },
 "nbformat": 4,
 "nbformat_minor": 2
}
